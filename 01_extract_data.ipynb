{
 "cells": [
  {
   "cell_type": "code",
   "execution_count": 1,
   "metadata": {},
   "outputs": [],
   "source": [
    "# Import dependencies\n",
    "import pandas as pd\n",
    "import numpy as np\n",
    "from splinter import Browser\n",
    "from webdriver_manager.chrome import ChromeDriverManager\n",
    "from bs4 import BeautifulSoup as bs\n",
    "import requests\n",
    "import zipfile"
   ]
  },
  {
   "cell_type": "code",
   "execution_count": 2,
   "metadata": {},
   "outputs": [
    {
     "name": "stderr",
     "output_type": "stream",
     "text": [
      "[WDM] - Current google-chrome version is 86.0.4240\n",
      "[WDM] - Get LATEST driver version for 86.0.4240\n",
      "[WDM] - Driver [C:\\Users\\Boss\\.wdm\\drivers\\chromedriver\\win32\\86.0.4240.22\\chromedriver.exe] found in cache\n"
     ]
    },
    {
     "name": "stdout",
     "output_type": "stream",
     "text": [
      " \n"
     ]
    }
   ],
   "source": [
    "executable_path = {'executable_path': ChromeDriverManager().install()}\n",
    "browser = Browser('chrome', **executable_path, headless=False)"
   ]
  },
  {
   "cell_type": "code",
   "execution_count": 3,
   "metadata": {},
   "outputs": [],
   "source": [
    "# URL of page to be scraped\n",
    "url = 'https://s3.amazonaws.com/tripdata/index.html'\n",
    "\n",
    "# Use splinter to navigate the site\n",
    "browser.visit(url)"
   ]
  },
  {
   "cell_type": "code",
   "execution_count": 4,
   "metadata": {},
   "outputs": [],
   "source": [
    "# Create BeautifulSoup object; parse with 'lxml'\n",
    "html = browser.html\n",
    "soup = bs(html, 'lxml')"
   ]
  },
  {
   "cell_type": "code",
   "execution_count": 5,
   "metadata": {},
   "outputs": [],
   "source": [
    "# Get the links to download the data (excluding JC (short for Jersey City),\n",
    "# and data for 2013 and 2014 which might be too far away)\n",
    "\n",
    "years_state_to_remove = ['index', 'JC', '2013', '2014', '2015', '2016', '2017']\n",
    "\n",
    "links = [link[\"href\"] for link in soup.find_all('a') if not any(s in link[\"href\"] for s in years_state_to_remove)]"
   ]
  },
  {
   "cell_type": "code",
   "execution_count": 6,
   "metadata": {},
   "outputs": [
    {
     "name": "stdout",
     "output_type": "stream",
     "text": [
      "Downloading https://s3.amazonaws.com/tripdata/201801-citibike-tripdata.csv.zip\n",
      "Downloading https://s3.amazonaws.com/tripdata/201802-citibike-tripdata.csv.zip\n",
      "Downloading https://s3.amazonaws.com/tripdata/201803-citibike-tripdata.csv.zip\n",
      "Downloading https://s3.amazonaws.com/tripdata/201804-citibike-tripdata.csv.zip\n",
      "Downloading https://s3.amazonaws.com/tripdata/201805-citibike-tripdata.csv.zip\n",
      "Downloading https://s3.amazonaws.com/tripdata/201806-citibike-tripdata.csv.zip\n",
      "Downloading https://s3.amazonaws.com/tripdata/201807-citibike-tripdata.csv.zip\n",
      "Downloading https://s3.amazonaws.com/tripdata/201808-citibike-tripdata.csv.zip\n",
      "Downloading https://s3.amazonaws.com/tripdata/201809-citibike-tripdata.csv.zip\n",
      "Downloading https://s3.amazonaws.com/tripdata/201810-citibike-tripdata.csv.zip\n",
      "Downloading https://s3.amazonaws.com/tripdata/201811-citibike-tripdata.csv.zip\n",
      "Downloading https://s3.amazonaws.com/tripdata/201812-citibike-tripdata.csv.zip\n",
      "Downloading https://s3.amazonaws.com/tripdata/201901-citibike-tripdata.csv.zip\n",
      "Downloading https://s3.amazonaws.com/tripdata/201902-citibike-tripdata.csv.zip\n",
      "Downloading https://s3.amazonaws.com/tripdata/201903-citibike-tripdata.csv.zip\n",
      "Downloading https://s3.amazonaws.com/tripdata/201904-citibike-tripdata.csv.zip\n",
      "Downloading https://s3.amazonaws.com/tripdata/201905-citibike-tripdata.csv.zip\n",
      "Downloading https://s3.amazonaws.com/tripdata/201906-citibike-tripdata.csv.zip\n",
      "Downloading https://s3.amazonaws.com/tripdata/201907-citibike-tripdata.csv.zip\n",
      "Downloading https://s3.amazonaws.com/tripdata/201908-citibike-tripdata.csv.zip\n",
      "Downloading https://s3.amazonaws.com/tripdata/201909-citibike-tripdata.csv.zip\n",
      "Downloading https://s3.amazonaws.com/tripdata/201910-citibike-tripdata.csv.zip\n",
      "Downloading https://s3.amazonaws.com/tripdata/201911-citibike-tripdata.csv.zip\n",
      "Downloading https://s3.amazonaws.com/tripdata/201912-citibike-tripdata.csv.zip\n",
      "Downloading https://s3.amazonaws.com/tripdata/202001-citibike-tripdata.csv.zip\n",
      "Downloading https://s3.amazonaws.com/tripdata/202002-citibike-tripdata.csv.zip\n",
      "Downloading https://s3.amazonaws.com/tripdata/202003-citibike-tripdata.csv.zip\n",
      "Downloading https://s3.amazonaws.com/tripdata/202004-citibike-tripdata.csv.zip\n",
      "Downloading https://s3.amazonaws.com/tripdata/202005-citibike-tripdata.csv.zip\n",
      "Downloading https://s3.amazonaws.com/tripdata/202006-citibike-tripdata.csv.zip\n",
      "Downloading https://s3.amazonaws.com/tripdata/202007-citibike-tripdata.csv.zip\n",
      "Downloading https://s3.amazonaws.com/tripdata/202008-citibike-tripdata.csv.zip\n",
      "Downloading https://s3.amazonaws.com/tripdata/202009-citibike-tripdata.csv.zip\n",
      "Downloading https://s3.amazonaws.com/tripdata/202010-citibike-tripdata.csv.zip\n"
     ]
    }
   ],
   "source": [
    "# Download and unzip the zip files in the links\n",
    "for link in links:\n",
    "    print(f\"Downloading {link}\")\n",
    "    r = requests.get(link)\n",
    "    name = link.rsplit(\"/\", 1)[-1]\n",
    "    with open(f\"data/{name}\", 'wb') as f:\n",
    "        f.write(r.content)\n",
    "\n",
    "    with zipfile.ZipFile(f\"data/{name}\", 'r') as zip_ref:\n",
    "        zip_ref.extractall(\"data/\")"
   ]
  },
  {
   "cell_type": "code",
   "execution_count": 7,
   "metadata": {},
   "outputs": [],
   "source": [
    "browser.quit()"
   ]
  },
  {
   "cell_type": "code",
   "execution_count": null,
   "metadata": {},
   "outputs": [],
   "source": []
  }
 ],
 "metadata": {
  "kernelspec": {
   "display_name": "Python [conda env:PythonAdv] *",
   "language": "python",
   "name": "conda-env-PythonAdv-py"
  },
  "language_info": {
   "codemirror_mode": {
    "name": "ipython",
    "version": 3
   },
   "file_extension": ".py",
   "mimetype": "text/x-python",
   "name": "python",
   "nbconvert_exporter": "python",
   "pygments_lexer": "ipython3",
   "version": "3.6.12"
  }
 },
 "nbformat": 4,
 "nbformat_minor": 4
}
