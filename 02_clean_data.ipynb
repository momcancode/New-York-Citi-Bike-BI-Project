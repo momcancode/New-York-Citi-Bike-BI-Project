{
 "cells": [
  {
   "cell_type": "code",
   "execution_count": 1,
   "metadata": {},
   "outputs": [],
   "source": [
    "# Import dependencies\n",
    "import pandas as pd\n",
    "import numpy as np\n",
    "from splinter import Browser\n",
    "from webdriver_manager.chrome import ChromeDriverManager\n",
    "from bs4 import BeautifulSoup as bs\n",
    "import requests\n",
    "import zipfile\n",
    "import glob"
   ]
  },
  {
   "cell_type": "code",
   "execution_count": 2,
   "metadata": {},
   "outputs": [
    {
     "name": "stderr",
     "output_type": "stream",
     "text": [
      "[WDM] - Current google-chrome version is 86.0.4240\n",
      "[WDM] - Get LATEST driver version for 86.0.4240\n"
     ]
    },
    {
     "name": "stdout",
     "output_type": "stream",
     "text": [
      " \n"
     ]
    },
    {
     "name": "stderr",
     "output_type": "stream",
     "text": [
      "[WDM] - Driver [C:\\Users\\Boss\\.wdm\\drivers\\chromedriver\\win32\\86.0.4240.22\\chromedriver.exe] found in cache\n"
     ]
    }
   ],
   "source": [
    "executable_path = {'executable_path': ChromeDriverManager().install()}\n",
    "browser = Browser('chrome', **executable_path, headless=False)"
   ]
  },
  {
   "cell_type": "code",
   "execution_count": 3,
   "metadata": {},
   "outputs": [],
   "source": [
    "# URL of page to be scraped\n",
    "url = 'https://s3.amazonaws.com/tripdata/index.html'\n",
    "\n",
    "# Use splinter to navigate the site\n",
    "browser.visit(url)"
   ]
  },
  {
   "cell_type": "code",
   "execution_count": 4,
   "metadata": {},
   "outputs": [],
   "source": [
    "# Create BeautifulSoup object; parse with 'lxml'\n",
    "html = browser.html\n",
    "soup = bs(html, 'lxml')"
   ]
  },
  {
   "cell_type": "code",
   "execution_count": 5,
   "metadata": {},
   "outputs": [],
   "source": [
    "# Get the links to download the data (excluding JC (short for Jersey City),\n",
    "# and data for 2013 and 2014 which might be too far away)\n",
    "\n",
    "links = [link[\"href\"] for link in soup.find_all('a') if not any(\n",
    "    s in link[\"href\"] for s in ['index', 'JC', '2013', '2014'])]"
   ]
  },
  {
   "cell_type": "code",
   "execution_count": 6,
   "metadata": {},
   "outputs": [
    {
     "name": "stdout",
     "output_type": "stream",
     "text": [
      "Downloading https://s3.amazonaws.com/tripdata/201501-citibike-tripdata.zip\n",
      "Downloading https://s3.amazonaws.com/tripdata/201502-citibike-tripdata.zip\n",
      "Downloading https://s3.amazonaws.com/tripdata/201503-citibike-tripdata.zip\n",
      "Downloading https://s3.amazonaws.com/tripdata/201504-citibike-tripdata.zip\n",
      "Downloading https://s3.amazonaws.com/tripdata/201505-citibike-tripdata.zip\n",
      "Downloading https://s3.amazonaws.com/tripdata/201506-citibike-tripdata.zip\n",
      "Downloading https://s3.amazonaws.com/tripdata/201507-citibike-tripdata.zip\n",
      "Downloading https://s3.amazonaws.com/tripdata/201508-citibike-tripdata.zip\n",
      "Downloading https://s3.amazonaws.com/tripdata/201509-citibike-tripdata.zip\n",
      "Downloading https://s3.amazonaws.com/tripdata/201510-citibike-tripdata.zip\n",
      "Downloading https://s3.amazonaws.com/tripdata/201511-citibike-tripdata.zip\n",
      "Downloading https://s3.amazonaws.com/tripdata/201512-citibike-tripdata.zip\n",
      "Downloading https://s3.amazonaws.com/tripdata/201601-citibike-tripdata.zip\n",
      "Downloading https://s3.amazonaws.com/tripdata/201602-citibike-tripdata.zip\n",
      "Downloading https://s3.amazonaws.com/tripdata/201603-citibike-tripdata.zip\n",
      "Downloading https://s3.amazonaws.com/tripdata/201604-citibike-tripdata.zip\n",
      "Downloading https://s3.amazonaws.com/tripdata/201605-citibike-tripdata.zip\n",
      "Downloading https://s3.amazonaws.com/tripdata/201606-citibike-tripdata.zip\n",
      "Downloading https://s3.amazonaws.com/tripdata/201607-citibike-tripdata.zip\n",
      "Downloading https://s3.amazonaws.com/tripdata/201608-citibike-tripdata.zip\n",
      "Downloading https://s3.amazonaws.com/tripdata/201609-citibike-tripdata.zip\n",
      "Downloading https://s3.amazonaws.com/tripdata/201610-citibike-tripdata.zip\n",
      "Downloading https://s3.amazonaws.com/tripdata/201611-citibike-tripdata.zip\n",
      "Downloading https://s3.amazonaws.com/tripdata/201612-citibike-tripdata.zip\n",
      "Downloading https://s3.amazonaws.com/tripdata/201701-citibike-tripdata.csv.zip\n",
      "Downloading https://s3.amazonaws.com/tripdata/201702-citibike-tripdata.csv.zip\n",
      "Downloading https://s3.amazonaws.com/tripdata/201703-citibike-tripdata.csv.zip\n",
      "Downloading https://s3.amazonaws.com/tripdata/201704-citibike-tripdata.csv.zip\n",
      "Downloading https://s3.amazonaws.com/tripdata/201705-citibike-tripdata.csv.zip\n",
      "Downloading https://s3.amazonaws.com/tripdata/201706-citibike-tripdata.csv.zip\n",
      "Downloading https://s3.amazonaws.com/tripdata/201707-citibike-tripdata.csv.zip\n",
      "Downloading https://s3.amazonaws.com/tripdata/201708-citibike-tripdata.csv.zip\n",
      "Downloading https://s3.amazonaws.com/tripdata/201709-citibike-tripdata.csv.zip\n",
      "Downloading https://s3.amazonaws.com/tripdata/201710-citibike-tripdata.csv.zip\n",
      "Downloading https://s3.amazonaws.com/tripdata/201711-citibike-tripdata.csv.zip\n",
      "Downloading https://s3.amazonaws.com/tripdata/201712-citibike-tripdata.csv.zip\n",
      "Downloading https://s3.amazonaws.com/tripdata/201801-citibike-tripdata.csv.zip\n",
      "Downloading https://s3.amazonaws.com/tripdata/201802-citibike-tripdata.csv.zip\n",
      "Downloading https://s3.amazonaws.com/tripdata/201803-citibike-tripdata.csv.zip\n",
      "Downloading https://s3.amazonaws.com/tripdata/201804-citibike-tripdata.csv.zip\n",
      "Downloading https://s3.amazonaws.com/tripdata/201805-citibike-tripdata.csv.zip\n",
      "Downloading https://s3.amazonaws.com/tripdata/201806-citibike-tripdata.csv.zip\n",
      "Downloading https://s3.amazonaws.com/tripdata/201807-citibike-tripdata.csv.zip\n",
      "Downloading https://s3.amazonaws.com/tripdata/201808-citibike-tripdata.csv.zip\n",
      "Downloading https://s3.amazonaws.com/tripdata/201809-citibike-tripdata.csv.zip\n",
      "Downloading https://s3.amazonaws.com/tripdata/201810-citibike-tripdata.csv.zip\n",
      "Downloading https://s3.amazonaws.com/tripdata/201811-citibike-tripdata.csv.zip\n",
      "Downloading https://s3.amazonaws.com/tripdata/201812-citibike-tripdata.csv.zip\n",
      "Downloading https://s3.amazonaws.com/tripdata/201901-citibike-tripdata.csv.zip\n",
      "Downloading https://s3.amazonaws.com/tripdata/201902-citibike-tripdata.csv.zip\n",
      "Downloading https://s3.amazonaws.com/tripdata/201903-citibike-tripdata.csv.zip\n",
      "Downloading https://s3.amazonaws.com/tripdata/201904-citibike-tripdata.csv.zip\n",
      "Downloading https://s3.amazonaws.com/tripdata/201905-citibike-tripdata.csv.zip\n",
      "Downloading https://s3.amazonaws.com/tripdata/201906-citibike-tripdata.csv.zip\n",
      "Downloading https://s3.amazonaws.com/tripdata/201907-citibike-tripdata.csv.zip\n",
      "Downloading https://s3.amazonaws.com/tripdata/201908-citibike-tripdata.csv.zip\n",
      "Downloading https://s3.amazonaws.com/tripdata/201909-citibike-tripdata.csv.zip\n",
      "Downloading https://s3.amazonaws.com/tripdata/201910-citibike-tripdata.csv.zip\n",
      "Downloading https://s3.amazonaws.com/tripdata/201911-citibike-tripdata.csv.zip\n",
      "Downloading https://s3.amazonaws.com/tripdata/201912-citibike-tripdata.csv.zip\n",
      "Downloading https://s3.amazonaws.com/tripdata/202001-citibike-tripdata.csv.zip\n",
      "Downloading https://s3.amazonaws.com/tripdata/202002-citibike-tripdata.csv.zip\n",
      "Downloading https://s3.amazonaws.com/tripdata/202003-citibike-tripdata.csv.zip\n",
      "Downloading https://s3.amazonaws.com/tripdata/202004-citibike-tripdata.csv.zip\n",
      "Downloading https://s3.amazonaws.com/tripdata/202005-citibike-tripdata.csv.zip\n",
      "Downloading https://s3.amazonaws.com/tripdata/202006-citibike-tripdata.csv.zip\n",
      "Downloading https://s3.amazonaws.com/tripdata/202007-citibike-tripdata.csv.zip\n",
      "Downloading https://s3.amazonaws.com/tripdata/202008-citibike-tripdata.csv.zip\n",
      "Downloading https://s3.amazonaws.com/tripdata/202009-citibike-tripdata.csv.zip\n",
      "Downloading https://s3.amazonaws.com/tripdata/202010-citibike-tripdata.csv.zip\n"
     ]
    }
   ],
   "source": [
    "# Download and unzip the zip files in the links\n",
    "for link in links:\n",
    "    print(f\"Downloading {link}\")\n",
    "    r = requests.get(link)\n",
    "    name = link.rsplit(\"/\", 1)[-1]\n",
    "    with open(f\"data/{name}\", 'wb') as f:\n",
    "        f.write(r.content)\n",
    "\n",
    "    with zipfile.ZipFile(f\"data/{name}\", 'r') as zip_ref:\n",
    "        zip_ref.extractall(\"data/\")"
   ]
  },
  {
   "cell_type": "code",
   "execution_count": null,
   "metadata": {},
   "outputs": [],
   "source": []
  },
  {
   "cell_type": "code",
   "execution_count": null,
   "metadata": {},
   "outputs": [],
   "source": [
    "col_names = pd.concat([pd.read_csv(f) for f in glob.glob(r'data/*.csv')], ignore_index = True).columns\n",
    "col_names"
   ]
  },
  {
   "cell_type": "code",
   "execution_count": null,
   "metadata": {},
   "outputs": [],
   "source": [
    "# Read in and concatenate all csv files\n",
    "df = pd.concat([pd.read_csv(f) for f in glob.glob(r'data/*.csv')], ignore_index = True)\n",
    "df.head()"
   ]
  },
  {
   "cell_type": "code",
   "execution_count": null,
   "metadata": {},
   "outputs": [],
   "source": [
    "df.info()"
   ]
  },
  {
   "cell_type": "code",
   "execution_count": null,
   "metadata": {},
   "outputs": [],
   "source": [
    "df.to_csv(\"data/conso_file.csv\", index=False)"
   ]
  },
  {
   "cell_type": "code",
   "execution_count": null,
   "metadata": {},
   "outputs": [],
   "source": []
  },
  {
   "cell_type": "code",
   "execution_count": null,
   "metadata": {},
   "outputs": [],
   "source": []
  },
  {
   "cell_type": "code",
   "execution_count": null,
   "metadata": {},
   "outputs": [],
   "source": []
  },
  {
   "cell_type": "code",
   "execution_count": null,
   "metadata": {},
   "outputs": [],
   "source": []
  }
 ],
 "metadata": {
  "kernelspec": {
   "display_name": "Python [conda env:PythonAdv] *",
   "language": "python",
   "name": "conda-env-PythonAdv-py"
  },
  "language_info": {
   "codemirror_mode": {
    "name": "ipython",
    "version": 3
   },
   "file_extension": ".py",
   "mimetype": "text/x-python",
   "name": "python",
   "nbconvert_exporter": "python",
   "pygments_lexer": "ipython3",
   "version": "3.6.12"
  }
 },
 "nbformat": 4,
 "nbformat_minor": 4
}
