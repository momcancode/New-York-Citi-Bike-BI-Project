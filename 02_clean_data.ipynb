{
 "cells": [
  {
   "cell_type": "code",
   "execution_count": 1,
   "metadata": {},
   "outputs": [],
   "source": [
    "# Import dependencies\n",
    "import pandas as pd\n",
    "import numpy as np\n",
    "import glob"
   ]
  },
  {
   "cell_type": "code",
   "execution_count": 2,
   "metadata": {},
   "outputs": [
    {
     "data": {
      "text/html": [
       "<div>\n",
       "<style scoped>\n",
       "    .dataframe tbody tr th:only-of-type {\n",
       "        vertical-align: middle;\n",
       "    }\n",
       "\n",
       "    .dataframe tbody tr th {\n",
       "        vertical-align: top;\n",
       "    }\n",
       "\n",
       "    .dataframe thead th {\n",
       "        text-align: right;\n",
       "    }\n",
       "</style>\n",
       "<table border=\"1\" class=\"dataframe\">\n",
       "  <thead>\n",
       "    <tr style=\"text-align: right;\">\n",
       "      <th></th>\n",
       "      <th>tripduration</th>\n",
       "      <th>starttime</th>\n",
       "      <th>stoptime</th>\n",
       "      <th>start station id</th>\n",
       "      <th>start station name</th>\n",
       "      <th>start station latitude</th>\n",
       "      <th>start station longitude</th>\n",
       "      <th>end station id</th>\n",
       "      <th>end station name</th>\n",
       "      <th>end station latitude</th>\n",
       "      <th>end station longitude</th>\n",
       "      <th>bikeid</th>\n",
       "      <th>usertype</th>\n",
       "      <th>birth year</th>\n",
       "      <th>gender</th>\n",
       "    </tr>\n",
       "  </thead>\n",
       "  <tbody>\n",
       "    <tr>\n",
       "      <th>0</th>\n",
       "      <td>602</td>\n",
       "      <td>2019-12-01 00:00:05.5640</td>\n",
       "      <td>2019-12-01 00:10:07.8180</td>\n",
       "      <td>3382</td>\n",
       "      <td>Carroll St &amp; Smith St</td>\n",
       "      <td>40.680611</td>\n",
       "      <td>-73.994758</td>\n",
       "      <td>3304</td>\n",
       "      <td>6 Ave &amp; 9 St</td>\n",
       "      <td>40.668127</td>\n",
       "      <td>-73.983776</td>\n",
       "      <td>41932</td>\n",
       "      <td>Subscriber</td>\n",
       "      <td>1970</td>\n",
       "      <td>1</td>\n",
       "    </tr>\n",
       "    <tr>\n",
       "      <th>1</th>\n",
       "      <td>1206</td>\n",
       "      <td>2019-12-01 00:00:10.9630</td>\n",
       "      <td>2019-12-01 00:20:17.8820</td>\n",
       "      <td>362</td>\n",
       "      <td>Broadway &amp; W 37 St</td>\n",
       "      <td>40.751726</td>\n",
       "      <td>-73.987535</td>\n",
       "      <td>500</td>\n",
       "      <td>Broadway &amp; W 51 St</td>\n",
       "      <td>40.762288</td>\n",
       "      <td>-73.983362</td>\n",
       "      <td>18869</td>\n",
       "      <td>Customer</td>\n",
       "      <td>1999</td>\n",
       "      <td>1</td>\n",
       "    </tr>\n",
       "    <tr>\n",
       "      <th>2</th>\n",
       "      <td>723</td>\n",
       "      <td>2019-12-01 00:00:11.8180</td>\n",
       "      <td>2019-12-01 00:12:14.8310</td>\n",
       "      <td>146</td>\n",
       "      <td>Hudson St &amp; Reade St</td>\n",
       "      <td>40.716250</td>\n",
       "      <td>-74.009106</td>\n",
       "      <td>238</td>\n",
       "      <td>Bank St &amp; Washington St</td>\n",
       "      <td>40.736197</td>\n",
       "      <td>-74.008592</td>\n",
       "      <td>15334</td>\n",
       "      <td>Subscriber</td>\n",
       "      <td>1997</td>\n",
       "      <td>1</td>\n",
       "    </tr>\n",
       "    <tr>\n",
       "      <th>3</th>\n",
       "      <td>404</td>\n",
       "      <td>2019-12-01 00:00:12.2200</td>\n",
       "      <td>2019-12-01 00:06:56.8860</td>\n",
       "      <td>3834</td>\n",
       "      <td>Irving Ave &amp; Halsey St</td>\n",
       "      <td>40.694670</td>\n",
       "      <td>-73.906630</td>\n",
       "      <td>3827</td>\n",
       "      <td>Halsey St &amp; Broadway</td>\n",
       "      <td>40.685650</td>\n",
       "      <td>-73.915640</td>\n",
       "      <td>41692</td>\n",
       "      <td>Customer</td>\n",
       "      <td>1995</td>\n",
       "      <td>1</td>\n",
       "    </tr>\n",
       "    <tr>\n",
       "      <th>4</th>\n",
       "      <td>1059</td>\n",
       "      <td>2019-12-01 00:00:14.7230</td>\n",
       "      <td>2019-12-01 00:17:54.1860</td>\n",
       "      <td>500</td>\n",
       "      <td>Broadway &amp; W 51 St</td>\n",
       "      <td>40.762288</td>\n",
       "      <td>-73.983362</td>\n",
       "      <td>3323</td>\n",
       "      <td>W 106 St &amp; Central Park West</td>\n",
       "      <td>40.798186</td>\n",
       "      <td>-73.960591</td>\n",
       "      <td>40156</td>\n",
       "      <td>Subscriber</td>\n",
       "      <td>1961</td>\n",
       "      <td>1</td>\n",
       "    </tr>\n",
       "  </tbody>\n",
       "</table>\n",
       "</div>"
      ],
      "text/plain": [
       "   tripduration                 starttime                  stoptime  \\\n",
       "0           602  2019-12-01 00:00:05.5640  2019-12-01 00:10:07.8180   \n",
       "1          1206  2019-12-01 00:00:10.9630  2019-12-01 00:20:17.8820   \n",
       "2           723  2019-12-01 00:00:11.8180  2019-12-01 00:12:14.8310   \n",
       "3           404  2019-12-01 00:00:12.2200  2019-12-01 00:06:56.8860   \n",
       "4          1059  2019-12-01 00:00:14.7230  2019-12-01 00:17:54.1860   \n",
       "\n",
       "   start station id      start station name  start station latitude  \\\n",
       "0              3382   Carroll St & Smith St               40.680611   \n",
       "1               362      Broadway & W 37 St               40.751726   \n",
       "2               146    Hudson St & Reade St               40.716250   \n",
       "3              3834  Irving Ave & Halsey St               40.694670   \n",
       "4               500      Broadway & W 51 St               40.762288   \n",
       "\n",
       "   start station longitude  end station id              end station name  \\\n",
       "0               -73.994758            3304                  6 Ave & 9 St   \n",
       "1               -73.987535             500            Broadway & W 51 St   \n",
       "2               -74.009106             238       Bank St & Washington St   \n",
       "3               -73.906630            3827          Halsey St & Broadway   \n",
       "4               -73.983362            3323  W 106 St & Central Park West   \n",
       "\n",
       "   end station latitude  end station longitude  bikeid    usertype  \\\n",
       "0             40.668127             -73.983776   41932  Subscriber   \n",
       "1             40.762288             -73.983362   18869    Customer   \n",
       "2             40.736197             -74.008592   15334  Subscriber   \n",
       "3             40.685650             -73.915640   41692    Customer   \n",
       "4             40.798186             -73.960591   40156  Subscriber   \n",
       "\n",
       "   birth year  gender  \n",
       "0        1970       1  \n",
       "1        1999       1  \n",
       "2        1997       1  \n",
       "3        1995       1  \n",
       "4        1961       1  "
      ]
     },
     "execution_count": 2,
     "metadata": {},
     "output_type": "execute_result"
    }
   ],
   "source": [
    "# Read in one csv file to have an overview of the data\n",
    "df_201912 = pd.read_csv(\"data/201912-citibike-tripdata.csv\")\n",
    "df_201912.head()"
   ]
  },
  {
   "cell_type": "code",
   "execution_count": 3,
   "metadata": {},
   "outputs": [],
   "source": [
    "# Define the path that includes the csv files to merge\n",
    "files_to_merge = [file for file in glob.glob(r'data/*.csv')]"
   ]
  },
  {
   "cell_type": "code",
   "execution_count": 4,
   "metadata": {},
   "outputs": [
    {
     "name": "stdout",
     "output_type": "stream",
     "text": [
      "Maximum number of columns: 15\n",
      "Minimum number of columns: 15\n"
     ]
    }
   ],
   "source": [
    "# Check the number of columns in each file\n",
    "number_of_cols = list()\n",
    "\n",
    "for file in files_to_merge:\n",
    "    df = pd.read_csv(file, nrows = 0)\n",
    "    number_of_cols.append(df.columns.size)\n",
    "    \n",
    "print(f\"Maximum number of columns: {max(number_of_cols)}\")\n",
    "print(f\"Minimum number of columns: {min(number_of_cols)}\")"
   ]
  },
  {
   "cell_type": "code",
   "execution_count": 5,
   "metadata": {},
   "outputs": [
    {
     "data": {
      "text/plain": [
       "Index(['tripduration', 'starttime', 'stoptime', 'start station id',\n",
       "       'start station name', 'start station latitude',\n",
       "       'start station longitude', 'end station id', 'end station name',\n",
       "       'end station latitude', 'end station longitude', 'bikeid', 'usertype',\n",
       "       'birth year', 'gender', 'Trip Duration', 'Start Time', 'Stop Time',\n",
       "       'Start Station ID', 'Start Station Name', 'Start Station Latitude',\n",
       "       'Start Station Longitude', 'End Station ID', 'End Station Name',\n",
       "       'End Station Latitude', 'End Station Longitude', 'Bike ID', 'User Type',\n",
       "       'Birth Year', 'Gender'],\n",
       "      dtype='object')"
      ]
     },
     "execution_count": 5,
     "metadata": {},
     "output_type": "execute_result"
    }
   ],
   "source": [
    "col_names = pd.concat([pd.read_csv(file, nrows = 0) for file in files_to_merge], ignore_index = True).columns\n",
    "col_names"
   ]
  },
  {
   "cell_type": "markdown",
   "metadata": {},
   "source": [
    "As can be seen, there are columns covering similar data but named differently, e.g. tripduration vs. Trip Duration. Hence, we'll rename them for consistency."
   ]
  },
  {
   "cell_type": "code",
   "execution_count": 6,
   "metadata": {},
   "outputs": [],
   "source": [
    "# Renamed column names\n",
    "column_names = [\"trip_duration\", 'start_time', 'stop_time', 'start_station_id',\n",
    "                'start_station_name', 'start_station_latitude',\n",
    "                'start_station_longitude', 'end_station_id', 'end_station_name',\n",
    "                'end_station_latitude', 'end_station_longitude',\n",
    "                'bikeid', 'usertype', 'birth_year', 'gender']"
   ]
  },
  {
   "cell_type": "code",
   "execution_count": 7,
   "metadata": {},
   "outputs": [],
   "source": [
    "CHUNK_SIZE = 200000\n",
    "\n",
    "first_file = True\n",
    "\n",
    "for file in files_to_merge:\n",
    "\n",
    "    if first_file:\n",
    "        df_chunk = pd.read_csv(file, chunksize=CHUNK_SIZE, header=0, names=column_names)\n",
    "        \n",
    "    # if it is not the first csv file then skip the header row (row 0) of that file\n",
    "    else:\n",
    "        skip_row = [0]\n",
    "        df_chunk = pd.read_csv(file, chunksize=CHUNK_SIZE, skiprows=skip_row, header=None)\n",
    "\n",
    "    # The above operation results in a TextFileReader object for iteration.\n",
    "    # df_chunk is not a dataframe but an object for further operation in the next step.\n",
    "\n",
    "    for chunk in df_chunk:\n",
    "        # Append each chunk to a csv file \n",
    "        chunk.to_csv(\"data/conso_file.csv\", mode=\"a\", index=False)\n",
    "        \n",
    "    first_file = False"
   ]
  },
  {
   "cell_type": "code",
   "execution_count": null,
   "metadata": {},
   "outputs": [],
   "source": []
  }
 ],
 "metadata": {
  "kernelspec": {
   "display_name": "Python [conda env:PythonAdv] *",
   "language": "python",
   "name": "conda-env-PythonAdv-py"
  },
  "language_info": {
   "codemirror_mode": {
    "name": "ipython",
    "version": 3
   },
   "file_extension": ".py",
   "mimetype": "text/x-python",
   "name": "python",
   "nbconvert_exporter": "python",
   "pygments_lexer": "ipython3",
   "version": "3.6.12"
  }
 },
 "nbformat": 4,
 "nbformat_minor": 4
}
